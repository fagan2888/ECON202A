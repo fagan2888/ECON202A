{
 "cells": [
  {
   "cell_type": "markdown",
   "metadata": {},
   "source": [
    "# ECON202A Problem Set\n",
    "\n",
    "Team members: David Johannes, Bailey Johnson, Chandni Raja, Natasha Watkins"
   ]
  },
  {
   "cell_type": "markdown",
   "metadata": {},
   "source": [
    "### Problem 1\n",
    "\n",
    "Given $u(c_t) = -\\frac{1}{2} (\\bar{c} - c_t)^2$ and $r = \\delta$,\n",
    "\n",
    "\\begin{align*}\n",
    "    u'(c_t) &= \\bar{c} - c_t\n",
    "\\end{align*}\n",
    "\n",
    "By the Theorem (Hall, pg. 974)\n",
    "\n",
    "\\begin{align*}\n",
    "    E_t u'(c_{t+1}) &= \\frac{1+\\delta}{1+r} u'(c_t) \\\\\n",
    "    \\Rightarrow \\bar{c} - E_t c_{t+1} &= \\bar{c} - c_t \\\\\n",
    "    c_t &= E_t c_{t+1} \\\\\n",
    "    \\Rightarrow c_{t+1} &= c_t - \\varepsilon_{t+1}\n",
    "\\end{align*}\n",
    "\n",
    "Where $\\varepsilon_{t+1}$ is the true disturbance term, so that $E_t \\varepsilon_{t+1} = 0$, and therefore is white noise. This is a random walk process with no constant. "
   ]
  },
  {
   "cell_type": "markdown",
   "metadata": {},
   "source": [
    "### Problem 2\n",
    "\n",
    "The permanent-income hypothesis suggests that consumers' behaviour incorporates expectations of their future ability to consume, i.e., their consumption today should reflect their expectation of future income in all periods.  Forecasting future consumption should therefore only be a function of current consumption, as current consumption incorporates expectations of all other variables that might affect consumption, and so the stochastic process for income is irrelevant for forecasting.\n",
    "\n",
    "As consumption in the next period is only a function of current consumption, the error term has no effect on the level of consumption, i.e., $E_t \\varepsilon_{t+1} = 0$. Because $c_{t+1}$ is not explained by consumption in any other period, the error terms should be uncorrelated, i.e., $E_t(\\varepsilon_{t+1} \\varepsilon_{t+\\tau}) = 0$ for all $\\tau \\neq 1$. Therefore, the error term is a white noise process."
   ]
  },
  {
   "cell_type": "markdown",
   "metadata": {},
   "source": [
    "### Problem 3"
   ]
  },
  {
   "cell_type": "markdown",
   "metadata": {},
   "source": [
    "### Problem 4"
   ]
  },
  {
   "cell_type": "code",
   "execution_count": null,
   "metadata": {},
   "outputs": [],
   "source": [
    "import pandas as pd\n",
    "from fredapi import Fred\n",
    "import matplotlib.pyplot as plt\n",
    "import numpy as np\n",
    "from statsmodels.api import OLS, tsa\n",
    "from numpy.linalg import inv"
   ]
  },
  {
   "cell_type": "code",
   "execution_count": null,
   "metadata": {},
   "outputs": [],
   "source": [
    "fred = Fred(api_key='16fc433e0cb217bb8cb94bf76b981f2f')\n",
    "c = fred.get_series('A794RX0Q048SBEA')  # Real personal consumption expenditures per capita"
   ]
  },
  {
   "cell_type": "code",
   "execution_count": null,
   "metadata": {},
   "outputs": [],
   "source": [
    "c.plot(title='Real personal consumption expenditures per capita')\n",
    "plt.show()"
   ]
  },
  {
   "cell_type": "code",
   "execution_count": null,
   "metadata": {},
   "outputs": [],
   "source": [
    "data = pd.DataFrame()\n",
    "data['y'] = np.log(c).values\n",
    "data['X'] = np.log(c).shift(1).values # Shift to obtain consumption last period\n",
    "data['constant'] = 1\n",
    "data = data[1:]  # Drop first observation"
   ]
  },
  {
   "cell_type": "code",
   "execution_count": null,
   "metadata": {},
   "outputs": [],
   "source": [
    "model = OLS(data.y, data[['constant', 'X']])\n",
    "results = model.fit()\n",
    "print(results.summary())"
   ]
  },
  {
   "cell_type": "code",
   "execution_count": null,
   "metadata": {},
   "outputs": [],
   "source": [
    "fig, ax = plt.subplots(figsize=(10, 7))\n",
    "ax.plot(data.index, results.fittedvalues, label='Fitted values')\n",
    "ax.plot(data.y, label='Actual')\n",
    "plt.legend()\n",
    "plt.show()"
   ]
  },
  {
   "cell_type": "code",
   "execution_count": null,
   "metadata": {},
   "outputs": [],
   "source": [
    "plt.plot(results.resid.index, results.resid)\n",
    "plt.title('Residual plot')\n",
    "plt.show()"
   ]
  },
  {
   "cell_type": "markdown",
   "metadata": {},
   "source": [
    "The AR(1) process appears to be a reasonable statistical model of log consumption. The autoregressive coefficient is 0.999, indicating that log consumption is highly autoregressive. The residual plot shows that something similiar to a white noise process. The $R^2$ value indicates current consumption is explained almost perfectly by previous period's consumption."
   ]
  },
  {
   "cell_type": "markdown",
   "metadata": {},
   "source": [
    "### Problem 5"
   ]
  },
  {
   "cell_type": "code",
   "execution_count": null,
   "metadata": {},
   "outputs": [],
   "source": [
    "ρ = 0.9\n",
    "σ = np.sqrt(0.005)\n",
    "θ = 0.25             # Capital share of income"
   ]
  },
  {
   "cell_type": "markdown",
   "metadata": {},
   "source": [
    "We know from the properties of a Cobb-Douglas production function, the capital share of income is\n",
    "$$\n",
    "\\frac{rk}{y} = \\frac{rk}{k^\\theta} = rk^{1 - \\theta} = 0.25 = \\theta\n",
    "$$\n",
    "\n",
    "To find $\\beta$ and $\\delta$, note that the share of investment is\n",
    "$$\n",
    "\\frac{i}{y} = \\frac{\\delta k}{y} = \\frac{\\delta k}{k^\\theta} = \\delta k^{1 - \\theta} = 0.25 = \\theta\n",
    "$$\n",
    "This implies $\\delta = r = 0.05$.\n",
    "\n",
    "From the steady state version of the euler equation we found in problem 6, we have\n",
    "$$\n",
    "\\frac{1}{\\beta} = \\theta \\frac{y}{k} + 1 - \\delta = \\theta \\frac{k^\\theta}{k} + 1 - \\delta = \\theta \\frac{1}{k^{1-\\theta}} + 1 - \\delta = \\theta \\frac{\\delta}{\\theta} + 1 - \\delta = 1\n",
    "$$\n",
    "This implies $\\beta = 1$.\n",
    "\n",
    "We also can use this equation to note that\n",
    "$$\n",
    "\\bar{k} = \\left( \\frac{\\theta}{ \\delta} \\right)^{\\frac{1}{1-\\theta}}, \\quad \\bar{y} = \\bar{k}^\\theta, \\quad \\bar{c} = \\bar{y} - \\delta \\bar{k}\n",
    "$$"
   ]
  },
  {
   "cell_type": "code",
   "execution_count": null,
   "metadata": {},
   "outputs": [],
   "source": [
    "δ = r = 0.05\n",
    "β = 1\n",
    "k_bar = (θ / δ)**(1 / (1 - θ))\n",
    "y_bar = k_bar**θ\n",
    "c_bar = y_bar - δ * k_bar"
   ]
  },
  {
   "cell_type": "markdown",
   "metadata": {},
   "source": [
    "## Problem 7\n",
    "\n",
    "The Markovian form of the system is\n",
    "\\begin{align*}\n",
    "    E\n",
    "    \\begin{bmatrix}\n",
    "    \\tilde{c}_{t+1} \\\\\n",
    "    \\tilde{k}_{t+1} \\\\\n",
    "    \\tilde{z}_{t+1}\n",
    "    \\end{bmatrix}\n",
    "    &=\n",
    "    \\begin{bmatrix}\n",
    "    1 - \\beta R \\frac{c}{k} & R & \\beta \\frac{y}{k}(\\rho +  R) \\\\\n",
    "    -\\frac{c}{k} & \\frac{1}{\\beta} & \\frac{y}{k} \\\\\n",
    "    0 & 0 & \\rho\n",
    "    \\end{bmatrix}\n",
    "    \\begin{bmatrix}\n",
    "    \\tilde{c}_{t} \\\\\n",
    "    \\tilde{k}_{t} \\\\\n",
    "    \\tilde{z}_{t}\n",
    "    \\end{bmatrix} \n",
    "    =\n",
    "    M\n",
    "    \\begin{bmatrix}\n",
    "    \\tilde{c}_{t} \\\\\n",
    "    \\tilde{k}_{t} \\\\\n",
    "    \\tilde{z}_{t}\n",
    "    \\end{bmatrix}  \n",
    "\\end{align*}"
   ]
  },
  {
   "cell_type": "code",
   "execution_count": null,
   "metadata": {},
   "outputs": [],
   "source": [
    "R = (θ - 1) * (y_bar / k_bar)\n",
    "\n",
    "M = np.array([[1 - β * R * (c_bar / k_bar),     R, β * (y_bar / k_bar) * (ρ + R)],\n",
    "              [           -(c_bar / k_bar), 1 / β,                 y_bar / k_bar],\n",
    "              [0,                               0,                             ρ]])"
   ]
  },
  {
   "cell_type": "code",
   "execution_count": null,
   "metadata": {},
   "outputs": [],
   "source": [
    "λ, Γ = np.linalg.eig(M)  # Find eigenvalues and eigenvectors"
   ]
  },
  {
   "cell_type": "code",
   "execution_count": null,
   "metadata": {},
   "outputs": [],
   "source": [
    "print(λ)"
   ]
  },
  {
   "cell_type": "markdown",
   "metadata": {},
   "source": [
    "In our system we have one control/jump variable (consumption) and one unstable eigenvalue. Thus the Blanchard-Kahn condition is satisfied and we have a unique stationary solution to the linearized model."
   ]
  },
  {
   "cell_type": "markdown",
   "metadata": {},
   "source": [
    "## Problem 8"
   ]
  },
  {
   "cell_type": "code",
   "execution_count": null,
   "metadata": {},
   "outputs": [],
   "source": [
    "Γ_inv = inv(Γ)\n",
    "print(Γ_inv)"
   ]
  },
  {
   "cell_type": "code",
   "execution_count": null,
   "metadata": {},
   "outputs": [],
   "source": [
    "# Partition the matrix based on stable and unstable eigenvalues\n",
    "G_11 = Γ_inv[:1, :1]\n",
    "G_12 = Γ_inv[:1, 1:]\n",
    "G_22 = Γ_inv[1:, 1:]\n",
    "G_21 = Γ_inv[1:, :1]"
   ]
  },
  {
   "cell_type": "markdown",
   "metadata": {},
   "source": [
    "Construct the $z_t$ process"
   ]
  },
  {
   "cell_type": "code",
   "execution_count": null,
   "metadata": {},
   "outputs": [],
   "source": [
    "np.random.seed(0)                         # Set random seed\n",
    "T = 1200                                  # Length of time series\n",
    "ε = np.random.normal(scale=σ, size=T)     # Draw random error terms\n",
    "log_z = np.zeros(T)                       # To store z process\n",
    "log_z[0] = 0\n",
    "\n",
    "# Construct z process\n",
    "for t in range(1, T):\n",
    "    log_z[t] = ρ * log_z[t-1] + ε[t]\n",
    "    \n",
    "log_z = log_z[1:]  # Remove first observation"
   ]
  },
  {
   "cell_type": "code",
   "execution_count": null,
   "metadata": {},
   "outputs": [],
   "source": [
    "z = np.exp(log_z)\n",
    "plt.plot(z)\n",
    "plt.title('Stochastic process $z_t$')\n",
    "plt.show()"
   ]
  },
  {
   "cell_type": "code",
   "execution_count": null,
   "metadata": {},
   "outputs": [],
   "source": [
    "c_tilde = np.zeros(T)\n",
    "k_tilde = np.zeros(T)\n",
    "y_tilde = np.zeros(T)"
   ]
  },
  {
   "cell_type": "code",
   "execution_count": null,
   "metadata": {},
   "outputs": [],
   "source": [
    "# Construct series for log deviations of output, consumption and capital\n",
    "\n",
    "for t in range(T-1):\n",
    "    z_tilde = log_z[t]\n",
    "    x = np.array([k_tilde[t],\n",
    "                  z_tilde])\n",
    "    c_tilde[t] = -inv(G_11) @ G_12 @ x\n",
    "    y_tilde[t] = z_tilde + θ * k_tilde[t]\n",
    "    k_tilde[t+1] = y_tilde[t] - c_tilde[t]"
   ]
  },
  {
   "cell_type": "code",
   "execution_count": null,
   "metadata": {},
   "outputs": [],
   "source": [
    "discard_number = 200\n",
    "\n",
    "# These are the log deviations from the steady state\n",
    "log_k = k_tilde[discard_number:]\n",
    "log_c = c_tilde[discard_number:]\n",
    "log_y = y_tilde[discard_number:]"
   ]
  },
  {
   "cell_type": "code",
   "execution_count": null,
   "metadata": {},
   "outputs": [],
   "source": [
    "fig, ax = plt.subplots(figsize=(10, 6))\n",
    "plt.plot(np.exp(log_c), alpha=0.6, label='Consumption')\n",
    "plt.plot(np.exp(log_y), alpha=0.6, label='Output')\n",
    "plt.legend()\n",
    "plt.show()"
   ]
  },
  {
   "cell_type": "markdown",
   "metadata": {},
   "source": [
    "## Problem 9"
   ]
  },
  {
   "cell_type": "code",
   "execution_count": null,
   "metadata": {
    "scrolled": true
   },
   "outputs": [],
   "source": [
    "model = tsa.AR(log_c)\n",
    "results = model.fit(maxlag=1)\n",
    "results.params"
   ]
  },
  {
   "cell_type": "markdown",
   "metadata": {},
   "source": [
    "The value of the AR(1) process is approximately 0.72"
   ]
  },
  {
   "cell_type": "markdown",
   "metadata": {},
   "source": [
    "## Problem 10\n",
    "\n",
    "We now have\n",
    "$$\n",
    "\\frac{rk}{y} = \\frac{rk}{k^\\theta} = rk^{1 - \\theta} = 0.65 = \\theta\n",
    "$$\n",
    "\n",
    "To find $\\delta$, note that the share of investment is\n",
    "$$\n",
    "\\frac{i}{y} = \\frac{\\delta k}{y} = \\frac{\\delta k}{k^\\theta} = \\delta k^{1 - \\theta} = 0.25\n",
    "$$\n",
    "\n",
    "Therefore,\n",
    "$$\n",
    "\\frac{\\delta k^{1 - \\theta}}{r k^{1 - \\theta}}\n",
    "= \\frac{\\delta}{r} = \\frac{0.25}{\\theta}\n",
    "$$\n",
    "so\n",
    "$$\n",
    "\\delta = \\frac{0.25}{\\theta} \\cdot r\n",
    "$$\n",
    "We still have $\\beta = 1$."
   ]
  },
  {
   "cell_type": "code",
   "execution_count": null,
   "metadata": {},
   "outputs": [],
   "source": [
    "# Find new parameters and steady state values\n",
    "θ = 0.65\n",
    "δ = (0.25 / θ) * r\n",
    "k_bar = (θ / δ)**(1 / (1 - θ))\n",
    "y_bar = k_bar**θ\n",
    "c_bar = y_bar - δ * k_bar\n",
    "\n",
    "# Find the Markovian matrix\n",
    "R = (θ - 1) * (y_bar / k_bar)\n",
    "M = np.array([[1 - β * R * (c_bar / k_bar),     R, β * (y_bar / k_bar) * (ρ + R)],\n",
    "              [           -(c_bar / k_bar), 1 / β,                 y_bar / k_bar],\n",
    "              [0,                               0,                             ρ]])\n",
    "\n",
    "# Find eigenvalues and eigenvectors\n",
    "λ, Γ = np.linalg.eig(M) \n",
    "Γ_inv = inv(Γ)\n",
    "λ"
   ]
  },
  {
   "cell_type": "code",
   "execution_count": null,
   "metadata": {},
   "outputs": [],
   "source": [
    "# Partition the matrix based on stable and unstable eigenvectors\n",
    "G_11 = Γ_inv[:1, :1]\n",
    "G_12 = Γ_inv[:1, 1:]\n",
    "G_22 = Γ_inv[1:, 1:]\n",
    "G_21 = Γ_inv[1:, :1]"
   ]
  },
  {
   "cell_type": "code",
   "execution_count": null,
   "metadata": {},
   "outputs": [],
   "source": [
    "c_tilde = np.zeros(T)\n",
    "k_tilde = np.zeros(T)\n",
    "y_tilde = np.zeros(T)"
   ]
  },
  {
   "cell_type": "code",
   "execution_count": null,
   "metadata": {},
   "outputs": [],
   "source": [
    "# Construct series for log deviations of output, consumption and capital\n",
    "\n",
    "for t in range(T-1):\n",
    "    z_tilde = log_z[t]\n",
    "    x = np.array([k_tilde[t],\n",
    "                  z_tilde])\n",
    "    c_tilde[t] = -inv(G_11) @ G_12 @ x\n",
    "    y_tilde[t] = z_tilde + θ * k_tilde[t]\n",
    "    k_tilde[t+1] = y_tilde[t] - c_tilde[t]"
   ]
  },
  {
   "cell_type": "code",
   "execution_count": null,
   "metadata": {},
   "outputs": [],
   "source": [
    "discard_number = 200\n",
    "\n",
    "# These are the log deviations from the steady state\n",
    "log_k = k_tilde[discard_number:]\n",
    "log_c = c_tilde[discard_number:]\n",
    "log_y = y_tilde[discard_number:]"
   ]
  },
  {
   "cell_type": "code",
   "execution_count": null,
   "metadata": {},
   "outputs": [],
   "source": [
    "model = tsa.AR(log_c)\n",
    "results = model.fit(maxlag=1)\n",
    "\n",
    "results.params"
   ]
  },
  {
   "cell_type": "markdown",
   "metadata": {},
   "source": [
    "This model is closer to a random walk for consumption (as indicated by the higher AR(1) parameter). "
   ]
  },
  {
   "cell_type": "code",
   "execution_count": null,
   "metadata": {},
   "outputs": [],
   "source": []
  }
 ],
 "metadata": {
  "kernelspec": {
   "display_name": "Python 3",
   "language": "python",
   "name": "python3"
  },
  "language_info": {
   "codemirror_mode": {
    "name": "ipython",
    "version": 3
   },
   "file_extension": ".py",
   "mimetype": "text/x-python",
   "name": "python",
   "nbconvert_exporter": "python",
   "pygments_lexer": "ipython3",
   "version": "3.7.4"
  }
 },
 "nbformat": 4,
 "nbformat_minor": 2
}
